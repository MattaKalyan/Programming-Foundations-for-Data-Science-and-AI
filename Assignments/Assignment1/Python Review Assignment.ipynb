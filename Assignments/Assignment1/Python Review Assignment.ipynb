{
 "cells": [
  {
   "cell_type": "markdown",
   "id": "ff141806",
   "metadata": {},
   "source": [
    "### Python Review Assignment\n",
    "16 points\n",
    "\n",
    "Due by midnight September 9, 2022\n",
    "\n",
    "\n",
    "**To avoid erasing the sample output, please insert a new cell above the sample output**. Write your script inside the new cell and run. Verify your output with the sample output\n",
    "\n",
    "For lab submission, please rename your file using the following format\n",
    "\n",
    "`firstname_familyname_Lab1.ipynb`"
   ]
  },
  {
   "cell_type": "code",
   "execution_count": 104,
   "id": "283eac74",
   "metadata": {},
   "outputs": [
    {
     "data": {
      "text/plain": [
       "700741948"
      ]
     },
     "execution_count": 104,
     "metadata": {},
     "output_type": "execute_result"
    }
   ],
   "source": [
    "# please enter your name and 700# in this cell\n",
    "\n",
    "Kalyan Matta\n",
    "700741948\n",
    "\n",
    "\n"
   ]
  },
  {
   "cell_type": "markdown",
   "id": "a42732b2",
   "metadata": {},
   "source": [
    "### Task 1\n",
    "Define a string `s1` with content 'Good morning John'. Count the number of characters in `s1`"
   ]
  },
  {
   "cell_type": "code",
   "execution_count": 2,
   "id": "655c39e8",
   "metadata": {},
   "outputs": [],
   "source": [
    "s1 = 'Good morning John'\n"
   ]
  },
  {
   "cell_type": "code",
   "execution_count": 3,
   "id": "c29b4bae",
   "metadata": {},
   "outputs": [
    {
     "name": "stdout",
     "output_type": "stream",
     "text": [
      "17\n"
     ]
    }
   ],
   "source": [
    "print(len(s1))"
   ]
  },
  {
   "cell_type": "markdown",
   "id": "5d91c61d",
   "metadata": {},
   "source": [
    "### Task 2\n",
    "Check if the word 'morning' is contained in `s1`"
   ]
  },
  {
   "cell_type": "code",
   "execution_count": 4,
   "id": "11e47041",
   "metadata": {},
   "outputs": [],
   "source": [
    "s1 = 'Good morning John'"
   ]
  },
  {
   "cell_type": "code",
   "execution_count": 5,
   "id": "e22979de",
   "metadata": {},
   "outputs": [
    {
     "name": "stdout",
     "output_type": "stream",
     "text": [
      "True\n"
     ]
    }
   ],
   "source": [
    "print(\"morning\" in s1)"
   ]
  },
  {
   "cell_type": "markdown",
   "id": "a8e990f2",
   "metadata": {},
   "source": [
    "### Task 3\n",
    "Use a function to replace 'John' with 'David' in `s1`. Show the content of the new string"
   ]
  },
  {
   "cell_type": "code",
   "execution_count": 2,
   "id": "2ceadeb8",
   "metadata": {},
   "outputs": [],
   "source": [
    "s1 = 'Good morning John'"
   ]
  },
  {
   "cell_type": "code",
   "execution_count": 4,
   "id": "133c3b38",
   "metadata": {},
   "outputs": [
    {
     "data": {
      "text/plain": [
       "'Good morning David'"
      ]
     },
     "execution_count": 4,
     "metadata": {},
     "output_type": "execute_result"
    }
   ],
   "source": [
    "s1.replace(\"John\",\"David\")"
   ]
  },
  {
   "cell_type": "markdown",
   "id": "fccce95f",
   "metadata": {},
   "source": [
    "### Task 4\n",
    "Use your UCM email address to create a string s2. Extract the string `ucmo.edu`"
   ]
  },
  {
   "cell_type": "code",
   "execution_count": 22,
   "id": "1a4662b4",
   "metadata": {},
   "outputs": [],
   "source": [
    "s2 = \"kxm19480@ucmo.edu\""
   ]
  },
  {
   "cell_type": "code",
   "execution_count": 25,
   "id": "61c5f20a",
   "metadata": {},
   "outputs": [
    {
     "data": {
      "text/plain": [
       "'ucmo.edu'"
      ]
     },
     "execution_count": 25,
     "metadata": {},
     "output_type": "execute_result"
    }
   ],
   "source": [
    "s3 = s2.split('@')\n",
    "s3[1]"
   ]
  },
  {
   "cell_type": "markdown",
   "id": "c839354c",
   "metadata": {},
   "source": [
    "### Task 5\n",
    "Create a list x with integers from 1 to 30. Create a new list y which only conatins the odd numbers from list x. You are not allowed to mannually type out the lists"
   ]
  },
  {
   "cell_type": "code",
   "execution_count": 26,
   "id": "f1012d6b",
   "metadata": {},
   "outputs": [],
   "source": [
    "x = list(range(1,30))"
   ]
  },
  {
   "cell_type": "code",
   "execution_count": 27,
   "id": "885ffa3f",
   "metadata": {},
   "outputs": [
    {
     "name": "stdout",
     "output_type": "stream",
     "text": [
      "[1, 3, 5, 7, 9, 11, 13, 15, 17, 19, 21, 23, 25, 27, 29]\n"
     ]
    }
   ],
   "source": [
    "y = [i for i in x if i % 2 != 0]\n",
    "print(y)"
   ]
  },
  {
   "cell_type": "markdown",
   "id": "d8b8ef7b",
   "metadata": {},
   "source": [
    "### Task 6\n",
    "Create a new list z with each element is a squre of the corresponding element from list y. You are not allowed to mannually type out the list"
   ]
  },
  {
   "cell_type": "code",
   "execution_count": 29,
   "id": "36e95073",
   "metadata": {},
   "outputs": [
    {
     "data": {
      "text/plain": [
       "[1, 3, 5, 7, 9, 11, 13, 15, 17, 19, 21, 23, 25, 27, 29]"
      ]
     },
     "execution_count": 29,
     "metadata": {},
     "output_type": "execute_result"
    }
   ],
   "source": [
    "y = list(range(1,30,2))\n",
    "print(y)"
   ]
  },
  {
   "cell_type": "code",
   "execution_count": 30,
   "id": "eb22212d",
   "metadata": {},
   "outputs": [
    {
     "data": {
      "text/plain": [
       "[1, 9, 25, 49, 81, 121, 169, 225, 289, 361, 441, 529, 625, 729, 841]"
      ]
     },
     "execution_count": 30,
     "metadata": {},
     "output_type": "execute_result"
    }
   ],
   "source": [
    "z = [i**2 for i in y]\n",
    "print(z)"
   ]
  },
  {
   "cell_type": "markdown",
   "id": "148610bf",
   "metadata": {},
   "source": [
    "### Task 7\n",
    "Extract `[729, 625, 529, 441, 361, 289, 225, 169]` from list z. You are not allowed to mannually type out the list"
   ]
  },
  {
   "cell_type": "code",
   "execution_count": 33,
   "id": "ac19d388",
   "metadata": {},
   "outputs": [
    {
     "data": {
      "text/plain": [
       "15"
      ]
     },
     "execution_count": 33,
     "metadata": {},
     "output_type": "execute_result"
    }
   ],
   "source": [
    "z = [i**2 for i in range(1,30,2)]\n",
    "len(z)"
   ]
  },
  {
   "cell_type": "code",
   "execution_count": 38,
   "id": "d1e261c4",
   "metadata": {},
   "outputs": [
    {
     "data": {
      "text/plain": [
       "[729, 625, 529, 441, 361, 289, 225, 169]"
      ]
     },
     "execution_count": 38,
     "metadata": {},
     "output_type": "execute_result"
    }
   ],
   "source": [
    "z[13:5:-1]"
   ]
  },
  {
   "cell_type": "markdown",
   "id": "faa59cf8",
   "metadata": {},
   "source": [
    "### Task 8\n",
    "Reverse the order of z. You are not allowed to mannually type out the list"
   ]
  },
  {
   "cell_type": "code",
   "execution_count": 102,
   "id": "442059cc",
   "metadata": {},
   "outputs": [
    {
     "name": "stdout",
     "output_type": "stream",
     "text": [
      "[1, 9, 25, 49, 81, 121, 169, 225, 289, 361, 441, 529, 625, 729, 841]\n"
     ]
    }
   ],
   "source": [
    "z = [i**2 for i in range(1,30,2)]\n",
    "print(z)"
   ]
  },
  {
   "cell_type": "code",
   "execution_count": 40,
   "id": "c4468042",
   "metadata": {},
   "outputs": [
    {
     "data": {
      "text/plain": [
       "[841, 729, 625, 529, 441, 361, 289, 225, 169, 121, 81, 49, 25, 9, 1]"
      ]
     },
     "execution_count": 40,
     "metadata": {},
     "output_type": "execute_result"
    }
   ],
   "source": [
    "z[::-1]"
   ]
  },
  {
   "cell_type": "markdown",
   "id": "a5f86fed",
   "metadata": {},
   "source": [
    "### Task 9\n",
    "Given the following list, extract the string 'Get Me'"
   ]
  },
  {
   "cell_type": "code",
   "execution_count": 100,
   "id": "99b61963",
   "metadata": {},
   "outputs": [],
   "source": [
    "lst = [1, 2, [3, 4], [5, [100, 200, ['Get Me']], 300, 11], 1, 9]"
   ]
  },
  {
   "cell_type": "code",
   "execution_count": 101,
   "id": "0e8f451a",
   "metadata": {},
   "outputs": [
    {
     "data": {
      "text/plain": [
       "'Get Me'"
      ]
     },
     "execution_count": 101,
     "metadata": {},
     "output_type": "execute_result"
    }
   ],
   "source": [
    "lst[3][1][2][0]"
   ]
  },
  {
   "cell_type": "markdown",
   "id": "4a4ba88f",
   "metadata": {},
   "source": [
    "### Task 10\n",
    "Sort the following list of strings by their lengths. You are not allowed to mannually type out the list"
   ]
  },
  {
   "cell_type": "code",
   "execution_count": 98,
   "id": "a7a3ff33",
   "metadata": {},
   "outputs": [],
   "source": [
    "x = ['ccc', 'dddd', 'bb', 'ggggggg', 'a', 'eeeee', 'ffffff']"
   ]
  },
  {
   "cell_type": "code",
   "execution_count": 99,
   "id": "477f0495",
   "metadata": {},
   "outputs": [
    {
     "name": "stdout",
     "output_type": "stream",
     "text": [
      "['a', 'bb', 'ccc', 'dddd', 'eeeee', 'ffffff', 'ggggggg']\n"
     ]
    }
   ],
   "source": [
    "x.sort(key = len)\n",
    "print(x)"
   ]
  },
  {
   "cell_type": "markdown",
   "id": "b51c2254",
   "metadata": {},
   "source": [
    "### Task 11\n",
    "Extract the string 'Get Me' from the following dictionary d"
   ]
  },
  {
   "cell_type": "code",
   "execution_count": 96,
   "id": "8a43df80",
   "metadata": {},
   "outputs": [],
   "source": [
    "d = {'k1':[1, 2, 3, {'tricky':['oh', 'man', 'crazy', {'target':[1, 2, 3, 'Get Me']}]}]}"
   ]
  },
  {
   "cell_type": "code",
   "execution_count": 97,
   "id": "4184c435",
   "metadata": {},
   "outputs": [
    {
     "data": {
      "text/plain": [
       "'Get Me'"
      ]
     },
     "execution_count": 97,
     "metadata": {},
     "output_type": "execute_result"
    }
   ],
   "source": [
    "d[\"k1\"][3][\"tricky\"][3][\"target\"][3]"
   ]
  },
  {
   "cell_type": "markdown",
   "id": "8fa3e925",
   "metadata": {},
   "source": [
    "### Task 12\n",
    "Use lambda expressions and the `filter()` function to filter out words from the following list that don't start with the letter 's'"
   ]
  },
  {
   "cell_type": "code",
   "execution_count": 94,
   "id": "4a023ebc",
   "metadata": {},
   "outputs": [],
   "source": [
    "seq = ['soup', 'apple', 'salad', 'banana', 'spaghetti', 'spinach', 'kiwi']"
   ]
  },
  {
   "cell_type": "code",
   "execution_count": 95,
   "id": "9c90a4f6",
   "metadata": {},
   "outputs": [
    {
     "name": "stdout",
     "output_type": "stream",
     "text": [
      "['apple', 'banana', 'kiwi']\n"
     ]
    }
   ],
   "source": [
    "z  = list(filter(lambda x : not x.startswith('s'),seq))\n",
    "print(z)"
   ]
  },
  {
   "cell_type": "markdown",
   "id": "66db071e",
   "metadata": {},
   "source": [
    "### Task 13\n",
    "Count the number of unique characters in the following string s. Please ignore the white space and character case. For example, 'P' and 'p' are considered as one character"
   ]
  },
  {
   "cell_type": "code",
   "execution_count": 74,
   "id": "9a360418",
   "metadata": {},
   "outputs": [],
   "source": [
    "s = 'Python programming is fun'"
   ]
  },
  {
   "cell_type": "code",
   "execution_count": 75,
   "id": "81e5bbb0",
   "metadata": {},
   "outputs": [
    {
     "name": "stdout",
     "output_type": "stream",
     "text": [
      "14\n"
     ]
    }
   ],
   "source": [
    "x = set(s.lower().replace(\" \",\"\"))\n",
    "\n",
    "print(len(x))"
   ]
  },
  {
   "cell_type": "markdown",
   "id": "00b64768",
   "metadata": {},
   "source": [
    "### Task 14\n",
    "Use lambda expressions and the `map()` function to count the length of each string in the list"
   ]
  },
  {
   "cell_type": "code",
   "execution_count": 92,
   "id": "b735d5e5",
   "metadata": {},
   "outputs": [],
   "source": [
    "seq = ['soup', 'apple', 'salad', 'banana', 'spaghetti', 'spinach', 'kiwi']\n"
   ]
  },
  {
   "cell_type": "code",
   "execution_count": 93,
   "id": "541bf0e6",
   "metadata": {},
   "outputs": [
    {
     "name": "stdout",
     "output_type": "stream",
     "text": [
      "[4, 5, 5, 6, 9, 7, 4]\n"
     ]
    }
   ],
   "source": [
    "z = list(map(lambda x: len(x),seq))\n",
    "print(z)"
   ]
  },
  {
   "cell_type": "markdown",
   "id": "aeed3974",
   "metadata": {},
   "source": [
    "### Task 15\n",
    "Create a function that counts the number of times the word 'dog' occurs in a string. Ignore edge cases. "
   ]
  },
  {
   "cell_type": "code",
   "execution_count": 83,
   "id": "3940870f",
   "metadata": {},
   "outputs": [],
   "source": [
    "def countDog(s):\n",
    "    t = s.split(\" \")\n",
    "    n = t.count(\"dog\")\n",
    "    return n"
   ]
  },
  {
   "cell_type": "code",
   "execution_count": 85,
   "id": "13bc2166",
   "metadata": {},
   "outputs": [
    {
     "data": {
      "text/plain": [
       "3"
      ]
     },
     "execution_count": 85,
     "metadata": {},
     "output_type": "execute_result"
    }
   ],
   "source": [
    "countDog('This dog looks differently from that dog in the dog shelter!')"
   ]
  },
  {
   "cell_type": "markdown",
   "id": "05cd0e30",
   "metadata": {},
   "source": [
    "### Task 16\n",
    "A police officer stopped you as you were driving a little too fast. Write a function to return one of four possible results: 'No ticket', 'Small ticket', 'Big Ticket' or 'Go To Jail'. If your speed is 65 or less, the result is \"No Ticket\". If speed is between 66 and 80 inclusive, the result is \"Small Ticket\". If speed is between 81 and 90 inclusive, the result is \"Big Ticket\". If speed is 91 or more, the result is \"Go to Jail\". Unless it is your birthday (encoded as a Boolean value in the parameters of the function) -- on your birthday, your speed can be 5 higher in all cases. Your function receives two inputs: one is an integer for speed and another is a Boolean to indicate whether today is your birthday or not."
   ]
  },
  {
   "cell_type": "code",
   "execution_count": 88,
   "id": "df89576e",
   "metadata": {},
   "outputs": [],
   "source": [
    "def ticket(speed, bday):\n",
    "    if bday == True:\n",
    "        speed -= 5;\n",
    "    if speed <= 65:\n",
    "        print(\"No Ticket\")\n",
    "    elif speed >= 66 and speed <= 80:\n",
    "        print(\"Small ticket\")\n",
    "    elif speed >= 81 and speed <= 90:\n",
    "        print(\"Big Ticket\")\n",
    "    elif speed >= 91:\n",
    "        print(\"Go to jail\")"
   ]
  },
  {
   "cell_type": "code",
   "execution_count": 89,
   "id": "09b8e320",
   "metadata": {},
   "outputs": [
    {
     "name": "stdout",
     "output_type": "stream",
     "text": [
      "Go to jail\n"
     ]
    }
   ],
   "source": [
    "ticket(92, False)"
   ]
  },
  {
   "cell_type": "code",
   "execution_count": 90,
   "id": "56280f99",
   "metadata": {},
   "outputs": [
    {
     "name": "stdout",
     "output_type": "stream",
     "text": [
      "Big Ticket\n"
     ]
    }
   ],
   "source": [
    "ticket(92, True)"
   ]
  },
  {
   "cell_type": "code",
   "execution_count": 91,
   "id": "ef4c6509",
   "metadata": {},
   "outputs": [
    {
     "name": "stdout",
     "output_type": "stream",
     "text": [
      "No Ticket\n"
     ]
    }
   ],
   "source": [
    "ticket(58 , False)"
   ]
  },
  {
   "cell_type": "code",
   "execution_count": null,
   "id": "11450153",
   "metadata": {},
   "outputs": [],
   "source": []
  }
 ],
 "metadata": {
  "kernelspec": {
   "display_name": "Python 3 (ipykernel)",
   "language": "python",
   "name": "python3"
  },
  "language_info": {
   "codemirror_mode": {
    "name": "ipython",
    "version": 3
   },
   "file_extension": ".py",
   "mimetype": "text/x-python",
   "name": "python",
   "nbconvert_exporter": "python",
   "pygments_lexer": "ipython3",
   "version": "3.9.12"
  }
 },
 "nbformat": 4,
 "nbformat_minor": 5
}
