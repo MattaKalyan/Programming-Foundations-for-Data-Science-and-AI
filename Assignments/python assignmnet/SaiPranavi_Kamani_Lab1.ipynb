{
 "cells": [
  {
   "cell_type": "markdown",
   "id": "c0d9af32",
   "metadata": {},
   "source": [
    "### Python Review Assignment\n",
    "16 points\n",
    "\n",
    "Due by midnight May 20, 2022\n",
    "\n",
    "\n",
    "**To avoid erasing the sample output, please insert a new cell above the sample output**. Write your script inside the new cell and run. Verify your output with the sample output\n",
    "\n",
    "For lab submission, please rename your file using the following format\n",
    "\n",
    "`firstname_familyname_Lab1.ipynb`"
   ]
  },
  {
   "cell_type": "code",
   "execution_count": null,
   "id": "283eac74",
   "metadata": {},
   "outputs": [],
   "source": [
    "# please enter your name and 700# in this cell\n",
    "\n",
    "## Sai Pranavi Kamani 700733919#\n"
   ]
  },
  {
   "cell_type": "markdown",
   "id": "a42732b2",
   "metadata": {},
   "source": [
    "### Task 1\n",
    "Define a string `s1` with content 'Good morning John'. Count the number of characters in `s1`"
   ]
  },
  {
   "cell_type": "code",
   "execution_count": 11,
   "id": "655c39e8",
   "metadata": {},
   "outputs": [],
   "source": [
    "s1 = 'Good morning John'\n"
   ]
  },
  {
   "cell_type": "code",
   "execution_count": 6,
   "id": "8f34c661",
   "metadata": {},
   "outputs": [
    {
     "data": {
      "text/plain": [
       "17"
      ]
     },
     "execution_count": 6,
     "metadata": {},
     "output_type": "execute_result"
    }
   ],
   "source": [
    "len(s1)"
   ]
  },
  {
   "cell_type": "code",
   "execution_count": 6,
   "id": "c29b4bae",
   "metadata": {},
   "outputs": [
    {
     "data": {
      "text/plain": [
       "17"
      ]
     },
     "execution_count": 6,
     "metadata": {},
     "output_type": "execute_result"
    }
   ],
   "source": []
  },
  {
   "cell_type": "markdown",
   "id": "5d91c61d",
   "metadata": {},
   "source": [
    "### Task 2\n",
    "Check if the word 'morning' is contained in `s1`"
   ]
  },
  {
   "cell_type": "code",
   "execution_count": 12,
   "id": "11e47041",
   "metadata": {},
   "outputs": [
    {
     "data": {
      "text/plain": [
       "True"
      ]
     },
     "execution_count": 12,
     "metadata": {},
     "output_type": "execute_result"
    }
   ],
   "source": [
    "'morning' in s1"
   ]
  },
  {
   "cell_type": "code",
   "execution_count": 7,
   "id": "e22979de",
   "metadata": {},
   "outputs": [
    {
     "data": {
      "text/plain": [
       "True"
      ]
     },
     "execution_count": 7,
     "metadata": {},
     "output_type": "execute_result"
    }
   ],
   "source": []
  },
  {
   "cell_type": "markdown",
   "id": "a8e990f2",
   "metadata": {},
   "source": [
    "### Task 3\n",
    "Use a function to replace 'John' with 'David' in `s1`. Show the content of the new string"
   ]
  },
  {
   "cell_type": "code",
   "execution_count": 115,
   "id": "2ceadeb8",
   "metadata": {},
   "outputs": [
    {
     "name": "stdout",
     "output_type": "stream",
     "text": [
      "'Good morning David'\n"
     ]
    }
   ],
   "source": [
    "s2 = s1.replace('John','David')\n",
    "print(\"\\'\"+s2+'\\'')"
   ]
  },
  {
   "cell_type": "code",
   "execution_count": 8,
   "id": "133c3b38",
   "metadata": {},
   "outputs": [
    {
     "data": {
      "text/plain": [
       "'Good morning David'"
      ]
     },
     "execution_count": 8,
     "metadata": {},
     "output_type": "execute_result"
    }
   ],
   "source": []
  },
  {
   "cell_type": "markdown",
   "id": "fccce95f",
   "metadata": {},
   "source": [
    "### Task 4\n",
    "Use your UCM email address to create a string s2. Extract the string `ucmo.edu`"
   ]
  },
  {
   "cell_type": "code",
   "execution_count": 20,
   "id": "1a4662b4",
   "metadata": {},
   "outputs": [],
   "source": [
    "s3 ='sxk39190@ucmo.edu'"
   ]
  },
  {
   "cell_type": "code",
   "execution_count": 117,
   "id": "2d54f521",
   "metadata": {},
   "outputs": [
    {
     "name": "stdout",
     "output_type": "stream",
     "text": [
      "'ucmo.edu'\n"
     ]
    }
   ],
   "source": [
    "a = s3.split('@')\n",
    "print(\"\\'\"+a[1]+'\\'')"
   ]
  },
  {
   "cell_type": "code",
   "execution_count": 17,
   "id": "61c5f20a",
   "metadata": {},
   "outputs": [
    {
     "data": {
      "text/plain": [
       "'ucmo.edu'"
      ]
     },
     "execution_count": 17,
     "metadata": {},
     "output_type": "execute_result"
    }
   ],
   "source": []
  },
  {
   "cell_type": "markdown",
   "id": "c839354c",
   "metadata": {},
   "source": [
    "### Task 5\n",
    "Create a list x with integers from 1 to 30. Create a new list y which only conatins the odd numbers from list x. You are not allowed to mannually type out the lists"
   ]
  },
  {
   "cell_type": "code",
   "execution_count": 40,
   "id": "6c24f5c2",
   "metadata": {},
   "outputs": [
    {
     "name": "stdout",
     "output_type": "stream",
     "text": [
      "[1, 2, 3, 4, 5, 6, 7, 8, 9, 10, 11, 12, 13, 14, 15, 16, 17, 18, 19, 20, 21, 22, 23, 24, 25, 26, 27, 28, 29, 30]\n"
     ]
    }
   ],
   "source": [
    "x = [a for a in range(31) if a != 0]\n",
    "print(x)"
   ]
  },
  {
   "cell_type": "code",
   "execution_count": 41,
   "id": "9333ae95",
   "metadata": {},
   "outputs": [
    {
     "name": "stdout",
     "output_type": "stream",
     "text": [
      "[1, 3, 5, 7, 9, 11, 13, 15, 17, 19, 21, 23, 25, 27, 29]\n"
     ]
    }
   ],
   "source": [
    "y = [a for a in x if a%2 != 0]\n",
    "print(y)"
   ]
  },
  {
   "cell_type": "code",
   "execution_count": 11,
   "id": "885ffa3f",
   "metadata": {},
   "outputs": [
    {
     "data": {
      "text/plain": [
       "[1, 3, 5, 7, 9, 11, 13, 15, 17, 19, 21, 23, 25, 27, 29]"
      ]
     },
     "execution_count": 11,
     "metadata": {},
     "output_type": "execute_result"
    }
   ],
   "source": []
  },
  {
   "cell_type": "markdown",
   "id": "d8b8ef7b",
   "metadata": {},
   "source": [
    "### Task 6\n",
    "Create a new list z with each element is a squre of the corresponding element from list y. You are not allowed to mannually type out the list"
   ]
  },
  {
   "cell_type": "code",
   "execution_count": 112,
   "id": "36e95073",
   "metadata": {},
   "outputs": [
    {
     "name": "stdout",
     "output_type": "stream",
     "text": [
      "[1, 9, 25, 49, 81, 121, 169, 225, 289, 361, 441, 529, 625, 729, 841]\n"
     ]
    }
   ],
   "source": [
    "z = [pow(a,2) for a in y]\n",
    "print(z)"
   ]
  },
  {
   "cell_type": "code",
   "execution_count": 12,
   "id": "eb22212d",
   "metadata": {},
   "outputs": [
    {
     "data": {
      "text/plain": [
       "[1, 9, 25, 49, 81, 121, 169, 225, 289, 361, 441, 529, 625, 729, 841]"
      ]
     },
     "execution_count": 12,
     "metadata": {},
     "output_type": "execute_result"
    }
   ],
   "source": []
  },
  {
   "cell_type": "markdown",
   "id": "148610bf",
   "metadata": {},
   "source": [
    "### Task 7\n",
    "Extract `[729, 625, 529, 441, 361, 289, 225, 169]` from list z. You are not allowed to mannually type out the list"
   ]
  },
  {
   "cell_type": "code",
   "execution_count": 61,
   "id": "ac19d388",
   "metadata": {},
   "outputs": [
    {
     "name": "stdout",
     "output_type": "stream",
     "text": [
      "[729, 625, 529, 441, 361, 289, 225, 169]\n"
     ]
    }
   ],
   "source": [
    "b = z[6:-1:1]\n",
    "print(b[::-1])"
   ]
  },
  {
   "cell_type": "code",
   "execution_count": 14,
   "id": "d1e261c4",
   "metadata": {},
   "outputs": [
    {
     "data": {
      "text/plain": [
       "[729, 625, 529, 441, 361, 289, 225, 169]"
      ]
     },
     "execution_count": 14,
     "metadata": {},
     "output_type": "execute_result"
    }
   ],
   "source": []
  },
  {
   "cell_type": "markdown",
   "id": "faa59cf8",
   "metadata": {},
   "source": [
    "### Task 8\n",
    "Reverse the order of z. You are not allowed to mannually type out the list"
   ]
  },
  {
   "cell_type": "code",
   "execution_count": 62,
   "id": "442059cc",
   "metadata": {},
   "outputs": [
    {
     "data": {
      "text/plain": [
       "[841, 729, 625, 529, 441, 361, 289, 225, 169, 121, 81, 49, 25, 9, 1]"
      ]
     },
     "execution_count": 62,
     "metadata": {},
     "output_type": "execute_result"
    }
   ],
   "source": [
    "z[::-1]"
   ]
  },
  {
   "cell_type": "code",
   "execution_count": 13,
   "id": "c4468042",
   "metadata": {},
   "outputs": [
    {
     "data": {
      "text/plain": [
       "[841, 729, 625, 529, 441, 361, 289, 225, 169, 121, 81, 49, 25, 9, 1]"
      ]
     },
     "execution_count": 13,
     "metadata": {},
     "output_type": "execute_result"
    }
   ],
   "source": []
  },
  {
   "cell_type": "markdown",
   "id": "a5f86fed",
   "metadata": {},
   "source": [
    "### Task 9\n",
    "Given the following list, extract the string 'Get Me'"
   ]
  },
  {
   "cell_type": "code",
   "execution_count": 65,
   "id": "99b61963",
   "metadata": {},
   "outputs": [],
   "source": [
    "lst = [1, 2, [3, 4], [5, [100, 200, ['Get Me']], 300, 11], 1, 9]\n"
   ]
  },
  {
   "cell_type": "code",
   "execution_count": 67,
   "id": "775805c7",
   "metadata": {},
   "outputs": [
    {
     "data": {
      "text/plain": [
       "'Get Me'"
      ]
     },
     "execution_count": 67,
     "metadata": {},
     "output_type": "execute_result"
    }
   ],
   "source": [
    "lst[3][1][2][0]"
   ]
  },
  {
   "cell_type": "code",
   "execution_count": 22,
   "id": "0e8f451a",
   "metadata": {},
   "outputs": [
    {
     "data": {
      "text/plain": [
       "'Get Me'"
      ]
     },
     "execution_count": 22,
     "metadata": {},
     "output_type": "execute_result"
    }
   ],
   "source": []
  },
  {
   "cell_type": "markdown",
   "id": "4a4ba88f",
   "metadata": {},
   "source": [
    "### Task 10\n",
    "Sort the following list of strings by their lengths. You are not allowed to mannually type out the list"
   ]
  },
  {
   "cell_type": "code",
   "execution_count": 68,
   "id": "a7a3ff33",
   "metadata": {},
   "outputs": [],
   "source": [
    "x = ['ccc', 'dddd', 'bb', 'ggggggg', 'a', 'eeeee', 'ffffff']\n"
   ]
  },
  {
   "cell_type": "code",
   "execution_count": 71,
   "id": "0285abd1",
   "metadata": {},
   "outputs": [
    {
     "name": "stdout",
     "output_type": "stream",
     "text": [
      "['a', 'bb', 'ccc', 'dddd', 'eeeee', 'ffffff', 'ggggggg']\n"
     ]
    }
   ],
   "source": [
    "x.sort(key = len)\n",
    "print(x)"
   ]
  },
  {
   "cell_type": "code",
   "execution_count": 19,
   "id": "477f0495",
   "metadata": {},
   "outputs": [
    {
     "data": {
      "text/plain": [
       "['a', 'bb', 'ccc', 'dddd', 'eeeee', 'ffffff', 'ggggggg']"
      ]
     },
     "execution_count": 19,
     "metadata": {},
     "output_type": "execute_result"
    }
   ],
   "source": []
  },
  {
   "cell_type": "markdown",
   "id": "b51c2254",
   "metadata": {},
   "source": [
    "### Task 11\n",
    "Extract the string 'Get Me' from the following dictionary d"
   ]
  },
  {
   "cell_type": "code",
   "execution_count": 73,
   "id": "8a43df80",
   "metadata": {},
   "outputs": [],
   "source": [
    "d = {'k1':[1, 2, 3, {'tricky':['oh', 'man', 'crazy', {'target':[1, 2, 3, 'Get Me']}]}]}\n"
   ]
  },
  {
   "cell_type": "code",
   "execution_count": 79,
   "id": "1aa6ab2f",
   "metadata": {},
   "outputs": [
    {
     "data": {
      "text/plain": [
       "'Get Me'"
      ]
     },
     "execution_count": 79,
     "metadata": {},
     "output_type": "execute_result"
    }
   ],
   "source": [
    "d['k1'][3]['tricky'][3]['target'][3]"
   ]
  },
  {
   "cell_type": "code",
   "execution_count": 21,
   "id": "4184c435",
   "metadata": {},
   "outputs": [
    {
     "data": {
      "text/plain": [
       "'Get Me'"
      ]
     },
     "execution_count": 21,
     "metadata": {},
     "output_type": "execute_result"
    }
   ],
   "source": []
  },
  {
   "cell_type": "markdown",
   "id": "8fa3e925",
   "metadata": {},
   "source": [
    "### Task 12\n",
    "Use lambda expressions and the `filter()` function to filter out words from the following list that don't start with the letter 's'"
   ]
  },
  {
   "cell_type": "code",
   "execution_count": 83,
   "id": "4a023ebc",
   "metadata": {},
   "outputs": [],
   "source": [
    "seq = ['soup', 'apple', 'salad', 'banana', 'spaghetti', 'spinach', 'kiwi']\n"
   ]
  },
  {
   "cell_type": "code",
   "execution_count": 88,
   "id": "86562712",
   "metadata": {},
   "outputs": [
    {
     "data": {
      "text/plain": [
       "['soup', 'salad', 'spaghetti', 'spinach']"
      ]
     },
     "execution_count": 88,
     "metadata": {},
     "output_type": "execute_result"
    }
   ],
   "source": [
    "list(filter(lambda a:  a[0] == 's', seq))"
   ]
  },
  {
   "cell_type": "code",
   "execution_count": 23,
   "id": "9c90a4f6",
   "metadata": {},
   "outputs": [
    {
     "data": {
      "text/plain": [
       "['soup', 'salad', 'spaghetti', 'spinach']"
      ]
     },
     "execution_count": 23,
     "metadata": {},
     "output_type": "execute_result"
    }
   ],
   "source": []
  },
  {
   "cell_type": "markdown",
   "id": "66db071e",
   "metadata": {},
   "source": [
    "### Task 13\n",
    "Count the number of unique characters in the following string s. Please ignore the white space and character case. For example, 'P' and 'p' are considered as one character"
   ]
  },
  {
   "cell_type": "code",
   "execution_count": 90,
   "id": "9a360418",
   "metadata": {},
   "outputs": [],
   "source": [
    "s = 'Python programming is fun'\n"
   ]
  },
  {
   "cell_type": "code",
   "execution_count": 94,
   "id": "3de0a7ff",
   "metadata": {},
   "outputs": [
    {
     "name": "stdout",
     "output_type": "stream",
     "text": [
      "14\n"
     ]
    }
   ],
   "source": [
    "uqs=s.upper()\n",
    "uqs=set(uqs)\n",
    "uqs.remove(\" \")\n",
    "print(len(uqs))"
   ]
  },
  {
   "cell_type": "code",
   "execution_count": 29,
   "id": "81e5bbb0",
   "metadata": {},
   "outputs": [
    {
     "data": {
      "text/plain": [
       "14"
      ]
     },
     "execution_count": 29,
     "metadata": {},
     "output_type": "execute_result"
    }
   ],
   "source": []
  },
  {
   "cell_type": "markdown",
   "id": "00b64768",
   "metadata": {},
   "source": [
    "### Task 14\n",
    "Use lambda expressions and the `map()` function to count the length of each string in the list"
   ]
  },
  {
   "cell_type": "code",
   "execution_count": 1,
   "id": "b735d5e5",
   "metadata": {},
   "outputs": [],
   "source": [
    "seq = ['soup', 'apple', 'salad', 'banana', 'spaghetti', 'spinach', 'kiwi']\n"
   ]
  },
  {
   "cell_type": "code",
   "execution_count": 99,
   "id": "cfd49fdc",
   "metadata": {},
   "outputs": [
    {
     "data": {
      "text/plain": [
       "[4, 5, 5, 6, 9, 7, 4]"
      ]
     },
     "execution_count": 99,
     "metadata": {},
     "output_type": "execute_result"
    }
   ],
   "source": [
    "list(map(lambda a: len(a), seq))"
   ]
  },
  {
   "cell_type": "code",
   "execution_count": 2,
   "id": "541bf0e6",
   "metadata": {},
   "outputs": [
    {
     "data": {
      "text/plain": [
       "[4, 5, 5, 6, 9, 7, 4]"
      ]
     },
     "execution_count": 2,
     "metadata": {},
     "output_type": "execute_result"
    }
   ],
   "source": []
  },
  {
   "cell_type": "markdown",
   "id": "aeed3974",
   "metadata": {},
   "source": [
    "### Task 15\n",
    "Create a function that counts the number of times the word 'dog' occurs in a string. Ignore edge cases. "
   ]
  },
  {
   "cell_type": "code",
   "execution_count": 101,
   "id": "3940870f",
   "metadata": {},
   "outputs": [
    {
     "ename": "NameError",
     "evalue": "name 'countDog' is not defined",
     "output_type": "error",
     "traceback": [
      "\u001b[1;31m---------------------------------------------------------------------------\u001b[0m",
      "\u001b[1;31mNameError\u001b[0m                                 Traceback (most recent call last)",
      "\u001b[1;32m~\\AppData\\Local\\Temp/ipykernel_30192/909286897.py\u001b[0m in \u001b[0;36m<module>\u001b[1;34m\u001b[0m\n\u001b[1;32m----> 1\u001b[1;33m \u001b[0mcountDog\u001b[0m\u001b[1;33m(\u001b[0m\u001b[1;34m'This dog looks differently from that dog in the dog shelter!'\u001b[0m\u001b[1;33m)\u001b[0m\u001b[1;33m\u001b[0m\u001b[1;33m\u001b[0m\u001b[0m\n\u001b[0m",
      "\u001b[1;31mNameError\u001b[0m: name 'countDog' is not defined"
     ]
    }
   ],
   "source": [
    "countDog('This dog looks differently from that dog in the dog shelter!')\n"
   ]
  },
  {
   "cell_type": "code",
   "execution_count": 103,
   "id": "8adb2e1e",
   "metadata": {},
   "outputs": [
    {
     "data": {
      "text/plain": [
       "3"
      ]
     },
     "execution_count": 103,
     "metadata": {},
     "output_type": "execute_result"
    }
   ],
   "source": [
    "def dogCnt(countDog):\n",
    "    cntdog=countDog.count(\"dog\")\n",
    "    return cntdog\n",
    "countDog='This dog looks differently from that dog in the dog shelter!'\n",
    "dogCnt(countDog)"
   ]
  },
  {
   "cell_type": "code",
   "execution_count": 34,
   "id": "13bc2166",
   "metadata": {},
   "outputs": [
    {
     "data": {
      "text/plain": [
       "3"
      ]
     },
     "execution_count": 34,
     "metadata": {},
     "output_type": "execute_result"
    }
   ],
   "source": []
  },
  {
   "cell_type": "markdown",
   "id": "05cd0e30",
   "metadata": {},
   "source": [
    "### Task 16\n",
    "A police officer stopped you as you were driving a little too fast. Write a function to return one of four possible results: 'No ticket', 'Small ticket', 'Big Ticket' or 'Go To Jail'. If your speed is 65 or less, the result is \"No Ticket\". If speed is between 66 and 80 inclusive, the result is \"Small Ticket\". If speed is between 81 and 90 inclusive, the result is \"Big Ticket\". If speed is 91 or more, the result is \"Go to Jail\". Unless it is your birthday (encoded as a Boolean value in the parameters of the function) -- on your birthday, your speed can be 5 higher in all cases. Your function receives two inputs: one is an integer for speed and another is a Boolean to indicate whether today is your birthday or not."
   ]
  },
  {
   "cell_type": "code",
   "execution_count": 35,
   "id": "df89576e",
   "metadata": {},
   "outputs": [],
   "source": [
    "\n",
    "def ticket(speed, Birthday):\n",
    "    ticket = ['No Ticket', 'Small Ticket','Big Ticket','Go to Jail']\n",
    "    if Birthday == False:\n",
    "        if speed <= 65:\n",
    "            print(ticket[0])\n",
    "        elif speed <= 80 and speed >= 66:\n",
    "            print(ticket[1])\n",
    "        elif speed <= 90 and speed >= 81:\n",
    "            print(ticket[2])\n",
    "        elif speed >= 91:\n",
    "            print(ticket[3])\n",
    "    else:\n",
    "        speed = speed-5            \n",
    "        if speed <= 65:\n",
    "            print(ticket[0])\n",
    "        elif speed <= 80 and speed >= 66:\n",
    "            print(ticket[1])\n",
    "        elif speed <= 90 and speed >= 81:\n",
    "            print(ticket[2])\n",
    "        elif speed >= 91:\n",
    "            print(ticket[3])\n",
    "        "
   ]
  },
  {
   "cell_type": "code",
   "execution_count": 38,
   "id": "78af0d2c",
   "metadata": {},
   "outputs": [
    {
     "name": "stdout",
     "output_type": "stream",
     "text": [
      "Go to Jail\n"
     ]
    }
   ],
   "source": [
    "ticket(92, False)"
   ]
  },
  {
   "cell_type": "code",
   "execution_count": 39,
   "id": "825cf971",
   "metadata": {},
   "outputs": [
    {
     "name": "stdout",
     "output_type": "stream",
     "text": [
      "Big Ticket\n"
     ]
    }
   ],
   "source": [
    "ticket(92, True)"
   ]
  },
  {
   "cell_type": "code",
   "execution_count": 36,
   "id": "09b8e320",
   "metadata": {},
   "outputs": [
    {
     "name": "stdout",
     "output_type": "stream",
     "text": [
      "Go To Jail\n"
     ]
    }
   ],
   "source": [
    "ticket(92, False)"
   ]
  },
  {
   "cell_type": "code",
   "execution_count": 37,
   "id": "56280f99",
   "metadata": {},
   "outputs": [
    {
     "name": "stdout",
     "output_type": "stream",
     "text": [
      "Big Ticket\n"
     ]
    }
   ],
   "source": [
    "ticket(92, True)"
   ]
  }
 ],
 "metadata": {
  "kernelspec": {
   "display_name": "Python 3 (ipykernel)",
   "language": "python",
   "name": "python3"
  },
  "language_info": {
   "codemirror_mode": {
    "name": "ipython",
    "version": 3
   },
   "file_extension": ".py",
   "mimetype": "text/x-python",
   "name": "python",
   "nbconvert_exporter": "python",
   "pygments_lexer": "ipython3",
   "version": "3.9.12"
  }
 },
 "nbformat": 4,
 "nbformat_minor": 5
}
